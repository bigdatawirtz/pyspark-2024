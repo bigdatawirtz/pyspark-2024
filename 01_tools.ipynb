{
 "cells": [
  {
   "cell_type": "markdown",
   "metadata": {},
   "source": [
    "# Unit 1: Needed Tools"
   ]
  },
  {
   "cell_type": "markdown",
   "metadata": {},
   "source": [
    "## Contents\n",
    "1.1 Jupyter\n",
    "\n",
    "1.2 HDFS\n",
    "\n",
    "1.3 YARN\n"
   ]
  },
  {
   "cell_type": "markdown",
   "metadata": {},
   "source": [
    "# 1.1 Jupyter"
   ]
  },
  {
   "cell_type": "markdown",
   "metadata": {},
   "source": [
    "* Launch the Jupyter Notebook:\n",
    "\n",
    "    start_jupyter\n",
    "    \n",
    "  We can also use the new **JupyterLab** interface instead of the classic Jupyter Notebook:\n",
    "\n",
    "    **start_jupyter-lab**\n",
    "\n",
    "* Open the provided URL in the browser\n",
    "\n",
    "\n",
    "The notebook you have launched is tightly integrated with Spark in order to:\n",
    "* Automatically open a spark session with the cluster\n",
    "* Dynamically expand the required executors in the cluster\n",
    "\n",
    "Leave the terminal open, because the console provides useful debugging information, showing Spark messages.\n",
    "\n",
    "\n",
    "Take into account that **the number of simultaneous interactive jobs per user is restricted:** you can only run at most two notebooks at the same time."
   ]
  },
  {
   "cell_type": "markdown",
   "metadata": {},
   "source": [
    "# 1.2 HDFS"
   ]
  },
  {
   "cell_type": "markdown",
   "metadata": {},
   "source": [
    "Upload a file from HOME to HDFS:\n",
    "\n",
    "    hdfs dfs -put local_file.txt remote_file.txt\n",
    "\n",
    "Download a file from HDFS to HOME:\n",
    "\n",
    "    hdfs dfs -get remote_file.txt local_file.txt\n",
    "\n",
    "List files in HDFS (both commands are equivalent):\n",
    "\n",
    "    hdfs dfs -ls\n",
    "    hdfs dfs -ls /user/<current_user>\n",
    "\n",
    "List files in the HDFS root directory:\n",
    "\n",
    "    hdfs dfs -ls /\n",
    "   \n",
    "Create a directory:\n",
    "\n",
    "    hdfs dfs -mkdir testing\n",
    "\n",
    "Delete a directory:\n",
    "\n",
    "    hdfs dfs -rm -r -f testing\n",
    "    \n",
    "Delete a file:\n",
    "\n",
    "    hdfs dfs -rm testing/file.txt\n",
    "    \n",
    "See the contets of a file:\n",
    "\n",
    "    hdfs dfs -cat testing/file.txt"
   ]
  },
  {
   "cell_type": "markdown",
   "metadata": {},
   "source": [
    "## Exercise 1.2.1"
   ]
  },
  {
   "cell_type": "markdown",
   "metadata": {},
   "source": [
    "Upload the local datasets stored in:\n",
    "\n",
    "    /opt/cesga/cursos/pyspark_2022/datasets\n",
    "\n",
    "to your home directory in HDFS."
   ]
  },
  {
   "cell_type": "markdown",
   "metadata": {},
   "source": [
    "# 1.3 YARN"
   ]
  },
  {
   "cell_type": "markdown",
   "metadata": {},
   "source": [
    "### YARN Architecture\n",
    "![YARN Architecture](http://bigdata.cesga.es/tutorials/img/yarn_architecture.gif)"
   ]
  },
  {
   "cell_type": "markdown",
   "metadata": {},
   "source": [
    "### YARN basic commands\n",
    "See the aggregated logs produced by a job:\n",
    "    \n",
    "    yarn logs -applicationId <applicationID> | less\n",
    "\n",
    "View cluster information, including the list of running jobs:\n",
    "    \n",
    "    yarn top -users <username>\n",
    "\n",
    "Kill an application (i.e. a job):\n",
    "\n",
    "    yarn application -kill <applicationID>\n",
    "    "
   ]
  },
  {
   "cell_type": "markdown",
   "metadata": {},
   "source": [
    "These commands should be enough for this course, for further information you can check [The YARN Tutorial](http://bigdata.cesga.es/tutorials/yarn.html#/)."
   ]
  },
  {
   "cell_type": "markdown",
   "metadata": {},
   "source": [
    "### Exercise 1.3.1\n",
    "After starting Jupyter and opening a notebook, verify that there is a YARN application automatically running with your user."
   ]
  }
 ],
 "metadata": {
  "kernelspec": {
   "display_name": "Python 2",
   "language": "python",
   "name": "python2"
  },
  "language_info": {
   "codemirror_mode": {
    "name": "ipython",
    "version": 2
   },
   "file_extension": ".py",
   "mimetype": "text/x-python",
   "name": "python",
   "nbconvert_exporter": "python",
   "pygments_lexer": "ipython2",
   "version": "2.7.15"
  }
 },
 "nbformat": 4,
 "nbformat_minor": 4
}
